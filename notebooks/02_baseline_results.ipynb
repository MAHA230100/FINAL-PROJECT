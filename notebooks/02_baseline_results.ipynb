{
  "cells": [
    {
      "cell_type": "code",
      "execution_count": null,
      "metadata": {
        "vscode": {
          "languageId": "plaintext"
        }
      },
      "outputs": [],
      "source": [
        "# Baseline Models: Results and Explainability\n",
        "\n",
        "This notebook summarizes baseline training/evaluation and SHAP explainability using the sample datasets.\n",
        "\n"
      ]
    },
    {
      "cell_type": "code",
      "execution_count": null,
      "metadata": {},
      "outputs": [],
      "source": [
        "import json\n",
        "from pathlib import Path\n",
        "\n",
        "import joblib\n",
        "import pandas as pd\n",
        "\n",
        "from healthai.src.models.tabular.evaluate import load_xy\n",
        "from healthai.src.utils.metrics import classification_metrics, regression_metrics\n",
        "\n",
        "DATA_CLS = Path('healthai/data/raw/classification_breast_cancer.csv')\n",
        "DATA_REG = Path('healthai/data/raw/regression_diabetes.csv')\n",
        "MODEL_CLS = Path('healthai/models/baseline_classification.pkl')\n",
        "MODEL_REG = Path('healthai/models/baseline_regression.pkl')\n",
        "\n",
        "def report(model_path: Path, csv: Path, target: str, task: str):\n",
        "    model = joblib.load(model_path)\n",
        "    X, y = load_xy(csv, target)\n",
        "    if task == 'classification':\n",
        "        y_pred = model.predict(X)\n",
        "        try:\n",
        "            y_proba = model.predict_proba(X)[:, 1]\n",
        "        except Exception:\n",
        "            y_proba = None\n",
        "        return classification_metrics(y, y_pred, y_proba)\n",
        "    else:\n",
        "        y_pred = model.predict(X)\n",
        "        return regression_metrics(y, y_pred)\n",
        "\n",
        "print('Classification metrics:', report(MODEL_CLS, DATA_CLS, 'target', 'classification'))\n",
        "print('Regression metrics:', report(MODEL_REG, DATA_REG, 'target', 'regression'))\n"
      ]
    },
    {
      "cell_type": "code",
      "execution_count": null,
      "metadata": {},
      "outputs": [],
      "source": [
        "from pathlib import Path\n",
        "from healthai.src.models.tabular.shap_explain import load_xy\n",
        "import joblib\n",
        "\n",
        "csv = Path('healthai/data/raw/classification_breast_cancer.csv')\n",
        "model_path = Path('healthai/models/baseline_classification.pkl')\n",
        "X, y = load_xy(csv, 'target')\n",
        "pipe = joblib.load(model_path)\n",
        "\n",
        "# Display top features using model's feature_importances_ if available\n",
        "est = getattr(pipe, 'named_steps', {}).get('model', pipe)\n",
        "if hasattr(est, 'feature_importances_'):\n",
        "    import numpy as np\n",
        "    importances = est.feature_importances_\n",
        "    # Feature names not directly available post-encoding; list top indices\n",
        "    top_idx = np.argsort(importances)[-10:][::-1]\n",
        "    print('Top feature indices by importance:', top_idx)\n",
        "else:\n",
        "    print('Model has no feature_importances_ (skip)')\n"
      ]
    }
  ],
  "metadata": {
    "language_info": {
      "name": "python"
    }
  },
  "nbformat": 4,
  "nbformat_minor": 2
}
