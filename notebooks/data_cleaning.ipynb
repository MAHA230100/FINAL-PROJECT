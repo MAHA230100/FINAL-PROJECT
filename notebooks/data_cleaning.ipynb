{
  "cells": [
    {
      "cell_type": "markdown",
      "metadata": {},
      "source": [
        "# Data Cleaning Notebook\n",
        "\n",
        "This notebook demonstrates the data cleaning process for healthcare datasets.\n"
      ]
    },
    {
      "cell_type": "code",
      "execution_count": null,
      "metadata": {},
      "outputs": [],
      "source": [
        "import pandas as pd\n",
        "import numpy as np\n",
        "import matplotlib.pyplot as plt\n",
        "import seaborn as sns\n",
        "from pathlib import Path\n",
        "\n",
        "# Set up paths\n",
        "data_dir = Path('../data')\n",
        "raw_dir = data_dir / 'raw'\n",
        "cleaned_dir = data_dir / 'cleaned'\n",
        "\n",
        "print(f\"Raw data directory: {raw_dir}\")\n",
        "print(f\"Cleaned data directory: {cleaned_dir}\")\n"
      ]
    },
    {
      "cell_type": "markdown",
      "metadata": {},
      "source": [
        "## Load Raw Data\n"
      ]
    },
    {
      "cell_type": "code",
      "execution_count": null,
      "metadata": {},
      "outputs": [],
      "source": [
        "# Load sample dataset\n",
        "try:\n",
        "    # Try to load MIMIC demo data\n",
        "    mimic_file = raw_dir / 'mimic_demo' / 'admissions.csv'\n",
        "    if mimic_file.exists():\n",
        "        df = pd.read_csv(mimic_file)\n",
        "        print(f\"Loaded MIMIC data: {df.shape}\")\n",
        "    else:\n",
        "        # Create sample data for demonstration\n",
        "        np.random.seed(42)\n",
        "        df = pd.DataFrame({\n",
        "            'patient_id': range(1000),\n",
        "            'age': np.random.normal(65, 15, 1000),\n",
        "            'gender': np.random.choice(['M', 'F'], 1000),\n",
        "            'admission_type': np.random.choice(['URGENT', 'ELECTIVE', 'EMERGENCY'], 1000),\n",
        "            'length_of_stay': np.random.exponential(5, 1000),\n",
        "            'mortality': np.random.choice([0, 1], 1000, p=[0.8, 0.2])\n",
        "        })\n",
        "        print(f\"Created sample data: {df.shape}\")\n",
        "except Exception as e:\n",
        "    print(f\"Error loading data: {e}\")\n",
        "    df = pd.DataFrame()\n"
      ]
    }
  ],
  "metadata": {
    "language_info": {
      "name": "python"
    }
  },
  "nbformat": 4,
  "nbformat_minor": 2
}
